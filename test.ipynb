{
 "cells": [
  {
   "cell_type": "code",
   "execution_count": null,
   "id": "c52d739d",
   "metadata": {},
   "outputs": [
    {
     "name": "stdout",
     "output_type": "stream",
     "text": [
      "Counter({'z': 2, 'a': 2, 'b': 2, 's': 2})\n"
     ]
    }
   ],
   "source": [
    "i = 0\n",
    "while i < 9:\n",
    "  i += 1\n",
    "  if i == 3:\n",
    "    continue\n",
    "  print(i)"
   ]
  },
  {
   "cell_type": "code",
   "execution_count": null,
   "id": "d5b6088a",
   "metadata": {},
   "outputs": [],
   "source": [
    "def pending_operation(self):\n",
    "    \"\"\"\n",
    "    Returns the type of operation currently pending (e.g., deal, bet, fold, etc.).a\n",
    "    \n",
    "    \"\"\"\n",
    "    if any(self.ante_posting_statuses):\n",
    "        return \"post_ante\"\n",
    "    if self.bet_collection_status:\n",
    "        return \"collect_bets\"\n",
    "    if any(self.blind_or_straddle_posting_statuses):\n",
    "        return \"post_blind_or_straddle\"\n",
    "    if self.card_burning_status:\n",
    "        return \"burn_card\"\n",
    "    if any(self.hole_dealing_statuses):\n",
    "        return \"deal_hole\"\n",
    "    if any(self.board_dealing_counts):\n",
    "        return \"deal_board\"\n",
    "    if any(self.standing_pat_or_discarding_statuses):\n",
    "        return \"stand_pat_or_discard\"\n",
    "    if self.actor_indices:\n",
    "        return \"player_action\"\n",
    "    if any(self.runout_count_selector_statuses):\n",
    "        return \"select_runout_count\"\n",
    "    if self.showdown_indices:\n",
    "        return \"show_or_muck_hole_cards\"\n",
    "    if any(self.hand_killing_statuses):\n",
    "        return \"kill_hand\"\n",
    "    if self._sub_pots:\n",
    "        return \"push_chips\"\n",
    "    if any(self.chips_pulling_statuses):\n",
    "        return \"pull_chips\"\n",
    "    return None"
   ]
  },
  {
   "cell_type": "code",
   "execution_count": 189,
   "id": "5ef0b888",
   "metadata": {},
   "outputs": [],
   "source": [
    "def legal_tokens(st):\n",
    "    tokens = []\n",
    "    if st.can_fold():              \n",
    "        tokens.append(\"fold\")\n",
    "    if st.can_check_or_call():\n",
    "        if st.checking_or_calling_amount == 0:\n",
    "            tok = \"check\"\n",
    "        else:\n",
    "            tok = f\"call:{st.checking_or_calling_amount}\"\n",
    "        tokens.append(tok)\n",
    "    # offer two raise sizes: min-raise & pot-sized\n",
    "   \n",
    "    min_raise = st.street.min_completion_betting_or_raising_amount\n",
    "    tokens.append(f\"Raise from {min_raise} to {st.stacks[st.actor_index]}\")\n",
    "   \n",
    "    return tokens"
   ]
  },
  {
   "cell_type": "code",
   "execution_count": 190,
   "id": "fc35684d",
   "metadata": {},
   "outputs": [
    {
     "name": "stderr",
     "output_type": "stream",
     "text": [
      "c:\\Users\\Matthew\\anaconda3\\Lib\\site-packages\\pokerkit\\state.py:4343: UserWarning: There is no reason for this player to fold.\n",
      "  else:\n"
     ]
    },
    {
     "data": {
      "text/plain": [
       "['fold', 'check', 'Raise from 400 to 13200']"
      ]
     },
     "execution_count": 190,
     "metadata": {},
     "output_type": "execute_result"
    }
   ],
   "source": [
    "legal_tokens(state)"
   ]
  },
  {
   "cell_type": "code",
   "execution_count": 191,
   "id": "07d6aacf",
   "metadata": {},
   "outputs": [
    {
     "data": {
      "text/plain": [
       "CheckingOrCalling(commentary=None, player_index=0, amount=0)"
      ]
     },
     "execution_count": 191,
     "metadata": {},
     "output_type": "execute_result"
    }
   ],
   "source": [
    "state.check_or_call()"
   ]
  },
  {
   "cell_type": "code",
   "execution_count": 192,
   "id": "ed15dafa",
   "metadata": {},
   "outputs": [
    {
     "data": {
      "text/plain": [
       "[AntePosting(commentary=None, player_index=0, amount=600),\n",
       " BetCollection(commentary=None, bets=(600, 0)),\n",
       " BlindOrStraddlePosting(commentary=None, player_index=0, amount=400),\n",
       " BlindOrStraddlePosting(commentary=None, player_index=1, amount=200),\n",
       " HoleDealing(commentary=None, player_index=0, cards=(9d,), statuses=(False,)),\n",
       " HoleDealing(commentary=None, player_index=1, cards=(Jc,), statuses=(False,)),\n",
       " HoleDealing(commentary=None, player_index=0, cards=(6h,), statuses=(False,)),\n",
       " HoleDealing(commentary=None, player_index=1, cards=(Qd,), statuses=(False,)),\n",
       " CheckingOrCalling(commentary=None, player_index=1, amount=200),\n",
       " CompletionBettingOrRaisingTo(commentary=None, player_index=0, amount=1200),\n",
       " CheckingOrCalling(commentary=None, player_index=1, amount=800),\n",
       " BetCollection(commentary=None, bets=(1200, 1200)),\n",
       " CardBurning(commentary=None, card=7d),\n",
       " BoardDealing(commentary=None, cards=(2h, 3c, 5s)),\n",
       " CheckingOrCalling(commentary=None, player_index=0, amount=0)]"
      ]
     },
     "execution_count": 192,
     "metadata": {},
     "output_type": "execute_result"
    }
   ],
   "source": [
    "state.operations"
   ]
  },
  {
   "cell_type": "code",
   "execution_count": 193,
   "id": "0cdc7f92",
   "metadata": {},
   "outputs": [
    {
     "name": "stderr",
     "output_type": "stream",
     "text": [
      "c:\\Users\\Matthew\\anaconda3\\Lib\\site-packages\\pokerkit\\state.py:4343: UserWarning: There is no reason for this player to fold.\n",
      "  else:\n"
     ]
    },
    {
     "data": {
      "text/plain": [
       "['fold', 'check', 'Raise from 400 to 10800']"
      ]
     },
     "execution_count": 193,
     "metadata": {},
     "output_type": "execute_result"
    }
   ],
   "source": [
    "legal_tokens(state)"
   ]
  },
  {
   "cell_type": "code",
   "execution_count": 178,
   "id": "1d8aa827",
   "metadata": {},
   "outputs": [
    {
     "data": {
      "text/plain": [
       "0"
      ]
     },
     "execution_count": 178,
     "metadata": {},
     "output_type": "execute_result"
    }
   ],
   "source": [
    "state.checking_or_calling_amount"
   ]
  },
  {
   "cell_type": "code",
   "execution_count": 166,
   "id": "0376511a",
   "metadata": {},
   "outputs": [
    {
     "data": {
      "text/plain": [
       "400"
      ]
     },
     "execution_count": 166,
     "metadata": {},
     "output_type": "execute_result"
    }
   ],
   "source": [
    " state.street.min_completion_betting_or_raising_amount"
   ]
  },
  {
   "cell_type": "code",
   "execution_count": 140,
   "id": "76d8eb78",
   "metadata": {},
   "outputs": [
    {
     "data": {
      "text/plain": [
       "CheckingOrCalling(commentary=None, player_index=1, amount=200)"
      ]
     },
     "execution_count": 140,
     "metadata": {},
     "output_type": "execute_result"
    }
   ],
   "source": [
    "state.check_or_call()"
   ]
  },
  {
   "cell_type": "code",
   "execution_count": 158,
   "id": "853978a8",
   "metadata": {},
   "outputs": [
    {
     "data": {
      "text/plain": [
       "[AntePosting(commentary=None, player_index=0, amount=600),\n",
       " BetCollection(commentary=None, bets=(600, 0)),\n",
       " BlindOrStraddlePosting(commentary=None, player_index=0, amount=400),\n",
       " BlindOrStraddlePosting(commentary=None, player_index=1, amount=200),\n",
       " HoleDealing(commentary=None, player_index=0, cards=(9d,), statuses=(False,)),\n",
       " HoleDealing(commentary=None, player_index=1, cards=(Jc,), statuses=(False,)),\n",
       " HoleDealing(commentary=None, player_index=0, cards=(6h,), statuses=(False,)),\n",
       " HoleDealing(commentary=None, player_index=1, cards=(Qd,), statuses=(False,)),\n",
       " CheckingOrCalling(commentary=None, player_index=1, amount=200)]"
      ]
     },
     "execution_count": 158,
     "metadata": {},
     "output_type": "execute_result"
    }
   ],
   "source": [
    "state.operations"
   ]
  },
  {
   "cell_type": "code",
   "execution_count": 154,
   "id": "bf584fc2",
   "metadata": {},
   "outputs": [
    {
     "data": {
      "text/plain": [
       "0"
      ]
     },
     "execution_count": 154,
     "metadata": {},
     "output_type": "execute_result"
    }
   ],
   "source": [
    "state.actor_index"
   ]
  },
  {
   "cell_type": "code",
   "execution_count": null,
   "id": "08ab08aa",
   "metadata": {},
   "outputs": [
    {
     "data": {
      "text/plain": [
       "True"
      ]
     },
     "execution_count": 136,
     "metadata": {},
     "output_type": "execute_result"
    }
   ],
   "source": [
    "state.can_check_or_call()"
   ]
  },
  {
   "cell_type": "code",
   "execution_count": 148,
   "id": "e83b123d",
   "metadata": {},
   "outputs": [
    {
     "data": {
      "text/plain": [
       "[]"
      ]
     },
     "execution_count": 148,
     "metadata": {},
     "output_type": "execute_result"
    }
   ],
   "source": [
    "state.board_cards"
   ]
  },
  {
   "cell_type": "code",
   "execution_count": 157,
   "id": "0218eca9",
   "metadata": {},
   "outputs": [
    {
     "data": {
      "text/plain": [
       "'player_action'"
      ]
     },
     "execution_count": 157,
     "metadata": {},
     "output_type": "execute_result"
    }
   ],
   "source": [
    "pending_operation(state)"
   ]
  },
  {
   "cell_type": "code",
   "execution_count": 159,
   "id": "536e6192",
   "metadata": {},
   "outputs": [
    {
     "data": {
      "text/plain": [
       "CompletionBettingOrRaisingTo(commentary=None, player_index=0, amount=1200)"
      ]
     },
     "execution_count": 159,
     "metadata": {},
     "output_type": "execute_result"
    }
   ],
   "source": [
    "state.complete_bet_or_raise_to(1200)"
   ]
  },
  {
   "cell_type": "code",
   "execution_count": 161,
   "id": "d346b747",
   "metadata": {},
   "outputs": [
    {
     "data": {
      "text/plain": [
       "CheckingOrCalling(commentary=None, player_index=1, amount=800)"
      ]
     },
     "execution_count": 161,
     "metadata": {},
     "output_type": "execute_result"
    }
   ],
   "source": [
    "state.check_or_call()"
   ]
  },
  {
   "cell_type": "code",
   "execution_count": 162,
   "id": "ef120c87",
   "metadata": {},
   "outputs": [
    {
     "data": {
      "text/plain": [
       "[AntePosting(commentary=None, player_index=0, amount=600),\n",
       " BetCollection(commentary=None, bets=(600, 0)),\n",
       " BlindOrStraddlePosting(commentary=None, player_index=0, amount=400),\n",
       " BlindOrStraddlePosting(commentary=None, player_index=1, amount=200),\n",
       " HoleDealing(commentary=None, player_index=0, cards=(9d,), statuses=(False,)),\n",
       " HoleDealing(commentary=None, player_index=1, cards=(Jc,), statuses=(False,)),\n",
       " HoleDealing(commentary=None, player_index=0, cards=(6h,), statuses=(False,)),\n",
       " HoleDealing(commentary=None, player_index=1, cards=(Qd,), statuses=(False,)),\n",
       " CheckingOrCalling(commentary=None, player_index=1, amount=200),\n",
       " CompletionBettingOrRaisingTo(commentary=None, player_index=0, amount=1200),\n",
       " CheckingOrCalling(commentary=None, player_index=1, amount=800),\n",
       " BetCollection(commentary=None, bets=(1200, 1200)),\n",
       " CardBurning(commentary=None, card=7d),\n",
       " BoardDealing(commentary=None, cards=(2h, 3c, 5s))]"
      ]
     },
     "execution_count": 162,
     "metadata": {},
     "output_type": "execute_result"
    }
   ],
   "source": [
    "state.operations"
   ]
  },
  {
   "cell_type": "code",
   "execution_count": 194,
   "id": "eaf219ce",
   "metadata": {},
   "outputs": [
    {
     "data": {
      "text/plain": [
       "[AntePosting(commentary=None, player_index=0, amount=600),\n",
       " BetCollection(commentary=None, bets=(600, 0)),\n",
       " BlindOrStraddlePosting(commentary=None, player_index=0, amount=400),\n",
       " BlindOrStraddlePosting(commentary=None, player_index=1, amount=200),\n",
       " HoleDealing(commentary=None, player_index=0, cards=(9d,), statuses=(False,)),\n",
       " HoleDealing(commentary=None, player_index=1, cards=(Jc,), statuses=(False,)),\n",
       " HoleDealing(commentary=None, player_index=0, cards=(6h,), statuses=(False,)),\n",
       " HoleDealing(commentary=None, player_index=1, cards=(Qd,), statuses=(False,)),\n",
       " CheckingOrCalling(commentary=None, player_index=1, amount=200),\n",
       " CompletionBettingOrRaisingTo(commentary=None, player_index=0, amount=1200),\n",
       " CheckingOrCalling(commentary=None, player_index=1, amount=800),\n",
       " BetCollection(commentary=None, bets=(1200, 1200)),\n",
       " CardBurning(commentary=None, card=7d),\n",
       " BoardDealing(commentary=None, cards=(2h, 3c, 5s)),\n",
       " CheckingOrCalling(commentary=None, player_index=0, amount=0)]"
      ]
     },
     "execution_count": 194,
     "metadata": {},
     "output_type": "execute_result"
    }
   ],
   "source": [
    "state.operations"
   ]
  },
  {
   "cell_type": "code",
   "execution_count": 229,
   "id": "225119ee",
   "metadata": {},
   "outputs": [],
   "source": [
    "def action_str(op):\n",
    "    # Typical PokerKit operation classes: Folding, CheckingOrCalling, CompletionBettingOrRaisingTo, etc.\n",
    "    cls = type(op).__name__\n",
    "\n",
    "    if cls == 'BoardDealing':\n",
    "        return f\"Dealt cards={op.cards}\"\n",
    "    if hasattr(op, \"player_index\") and hasattr(op, \"amount\"):\n",
    "        return f\"{cls}(player={op.player_index}, amount={getattr(op, 'amount', None)})\"\n",
    "    else:\n",
    "        return None\n"
   ]
  },
  {
   "cell_type": "code",
   "execution_count": null,
   "id": "eac188ab",
   "metadata": {},
   "outputs": [],
   "source": []
  },
  {
   "cell_type": "code",
   "execution_count": null,
   "id": "e6c77f6c",
   "metadata": {},
   "outputs": [],
   "source": []
  },
  {
   "cell_type": "code",
   "execution_count": 231,
   "id": "4f2040b0",
   "metadata": {},
   "outputs": [
    {
     "data": {
      "text/plain": [
       "['AntePosting(player=0, amount=600)',\n",
       " 'BlindOrStraddlePosting(player=0, amount=400)',\n",
       " 'BlindOrStraddlePosting(player=1, amount=200)',\n",
       " 'CheckingOrCalling(player=1, amount=200)',\n",
       " 'CompletionBettingOrRaisingTo(player=0, amount=1200)',\n",
       " 'CheckingOrCalling(player=1, amount=800)',\n",
       " 'Dealt cards=(2h, 3c, 5s)',\n",
       " 'CheckingOrCalling(player=0, amount=0)']"
      ]
     },
     "execution_count": 231,
     "metadata": {},
     "output_type": "execute_result"
    }
   ],
   "source": [
    "[action_str(op) for op in state.operations if action_str(op)  is not None]"
   ]
  },
  {
   "cell_type": "code",
   "execution_count": 203,
   "id": "19bd9544",
   "metadata": {},
   "outputs": [
    {
     "data": {
      "text/plain": [
       "[AntePosting(commentary=None, player_index=0, amount=600),\n",
       " BetCollection(commentary=None, bets=(600, 0)),\n",
       " BlindOrStraddlePosting(commentary=None, player_index=0, amount=400),\n",
       " BlindOrStraddlePosting(commentary=None, player_index=1, amount=200),\n",
       " HoleDealing(commentary=None, player_index=0, cards=(9d,), statuses=(False,)),\n",
       " HoleDealing(commentary=None, player_index=1, cards=(Jc,), statuses=(False,)),\n",
       " HoleDealing(commentary=None, player_index=0, cards=(6h,), statuses=(False,)),\n",
       " HoleDealing(commentary=None, player_index=1, cards=(Qd,), statuses=(False,)),\n",
       " CheckingOrCalling(commentary=None, player_index=1, amount=200),\n",
       " CompletionBettingOrRaisingTo(commentary=None, player_index=0, amount=1200),\n",
       " CheckingOrCalling(commentary=None, player_index=1, amount=800),\n",
       " BetCollection(commentary=None, bets=(1200, 1200)),\n",
       " CardBurning(commentary=None, card=7d),\n",
       " BoardDealing(commentary=None, cards=(2h, 3c, 5s)),\n",
       " CheckingOrCalling(commentary=None, player_index=0, amount=0)]"
      ]
     },
     "execution_count": 203,
     "metadata": {},
     "output_type": "execute_result"
    }
   ],
   "source": [
    "state.operations"
   ]
  },
  {
   "cell_type": "code",
   "execution_count": 163,
   "id": "cd391eb7",
   "metadata": {},
   "outputs": [
    {
     "name": "stdout",
     "output_type": "stream",
     "text": [
      "Player 0 best hand: High card (9d6h2h3c5s)\n",
      "Player 1 best hand: High card (JcQd2h3c5s)\n"
     ]
    }
   ],
   "source": [
    "for i in state.player_indices:\n",
    "    hand = state.get_hand(i, 0, 0)\n",
    "    print(f\"Player {i} best hand:\", hand)"
   ]
  },
  {
   "cell_type": "code",
   "execution_count": 126,
   "id": "c6d06d17",
   "metadata": {},
   "outputs": [],
   "source": [
    "from math import inf\n",
    "from pokerkit import Automation, Mode, NoLimitTexasHoldem\n",
    "state = NoLimitTexasHoldem.create_state(\n",
    "    (\n",
    "        Automation.ANTE_POSTING,\n",
    "        Automation.BET_COLLECTION,\n",
    "        Automation.BLIND_OR_STRADDLE_POSTING,\n",
    "        Automation.HOLE_CARDS_SHOWING_OR_MUCKING,\n",
    "        Automation.BOARD_DEALING,\n",
    "        Automation.CARD_BURNING,\n",
    "        Automation.HOLE_DEALING,\n",
    "        Automation.HAND_KILLING,\n",
    "        Automation.CARD_BURNING,\n",
    "        Automation.CHIPS_PUSHING,\n",
    "        Automation.CHIPS_PULLING,\n",
    "    ),           # 1. automations\n",
    "    False,       # 2. ante_trimming_status\n",
    "    {-1: 600},   # 3. raw_antes\n",
    "    (200, 400),  # 4. raw_blinds_or_straddles\n",
    "    400,         # 5. bring_in\n",
    "    (10000, 116400, 86900, inf, 50000, 10000),  # 6. raw_starting_stacks\n",
    "    6,           # 7. player_count\n",
    "    mode=Mode.CASH_GAME,  # 8. mode (keyword-only)\n",
    ")"
   ]
  },
  {
   "cell_type": "code",
   "execution_count": 135,
   "id": "98f37c3e",
   "metadata": {},
   "outputs": [
    {
     "data": {
      "text/plain": [
       "False"
      ]
     },
     "execution_count": 135,
     "metadata": {},
     "output_type": "execute_result"
    }
   ],
   "source": [
    "state.can_push_chips()"
   ]
  },
  {
   "cell_type": "code",
   "execution_count": 127,
   "id": "9d404047",
   "metadata": {},
   "outputs": [
    {
     "name": "stdout",
     "output_type": "stream",
     "text": [
      "Player 0 hole cards: [Ad, Jd]\n",
      "Player 1 hole cards: [9d, 3s]\n",
      "Player 2 hole cards: [6h, 7h]\n",
      "Player 3 hole cards: [5d, 9h]\n",
      "Player 4 hole cards: [Td, 3h]\n",
      "Player 5 hole cards: [7s, Ac]\n"
     ]
    }
   ],
   "source": [
    "for i in state.player_indices:\n",
    "    print(f\"Player {i} hole cards:\", list(state.hole_cards[i]))"
   ]
  },
  {
   "cell_type": "code",
   "execution_count": 133,
   "id": "39822d6d",
   "metadata": {},
   "outputs": [
    {
     "ename": "TypeError",
     "evalue": "State.check_or_call() got an unexpected keyword argument 'amount_only'",
     "output_type": "error",
     "traceback": [
      "\u001b[1;31m---------------------------------------------------------------------------\u001b[0m",
      "\u001b[1;31mTypeError\u001b[0m                                 Traceback (most recent call last)",
      "Cell \u001b[1;32mIn[133], line 1\u001b[0m\n\u001b[1;32m----> 1\u001b[0m legal_tokens(state)\n",
      "Cell \u001b[1;32mIn[132], line 5\u001b[0m, in \u001b[0;36mlegal_tokens\u001b[1;34m(st)\u001b[0m\n\u001b[0;32m      3\u001b[0m \u001b[38;5;28;01mif\u001b[39;00m st\u001b[38;5;241m.\u001b[39mcan_fold():              tokens\u001b[38;5;241m.\u001b[39mappend(\u001b[38;5;124m\"\u001b[39m\u001b[38;5;124mfold\u001b[39m\u001b[38;5;124m\"\u001b[39m)\n\u001b[0;32m      4\u001b[0m \u001b[38;5;28;01mif\u001b[39;00m st\u001b[38;5;241m.\u001b[39mcan_check_or_call():\n\u001b[1;32m----> 5\u001b[0m     tok \u001b[38;5;241m=\u001b[39m \u001b[38;5;124m\"\u001b[39m\u001b[38;5;124mcheck\u001b[39m\u001b[38;5;124m\"\u001b[39m \u001b[38;5;28;01mif\u001b[39;00m st\u001b[38;5;241m.\u001b[39mcheck_or_call(amount_only\u001b[38;5;241m=\u001b[39m\u001b[38;5;28;01mTrue\u001b[39;00m) \u001b[38;5;241m==\u001b[39m \u001b[38;5;241m0\u001b[39m \u001b[38;5;28;01melse\u001b[39;00m \\\n\u001b[0;32m      6\u001b[0m           \u001b[38;5;124mf\u001b[39m\u001b[38;5;124m\"\u001b[39m\u001b[38;5;124mcall:\u001b[39m\u001b[38;5;132;01m{\u001b[39;00mst\u001b[38;5;241m.\u001b[39mcheck_or_call(amount_only\u001b[38;5;241m=\u001b[39m\u001b[38;5;28;01mTrue\u001b[39;00m)\u001b[38;5;132;01m}\u001b[39;00m\u001b[38;5;124m\"\u001b[39m\n\u001b[0;32m      7\u001b[0m     tokens\u001b[38;5;241m.\u001b[39mappend(tok)\n\u001b[0;32m      8\u001b[0m \u001b[38;5;66;03m# offer two raise sizes: min-raise & pot-sized\u001b[39;00m\n",
      "\u001b[1;31mTypeError\u001b[0m: State.check_or_call() got an unexpected keyword argument 'amount_only'"
     ]
    }
   ],
   "source": [
    "legal_tokens(state)"
   ]
  },
  {
   "cell_type": "code",
   "execution_count": 128,
   "id": "2dd593c0",
   "metadata": {},
   "outputs": [],
   "source": [
    "state = NoLimitTexasHoldem.create_state(\n",
    "    (\n",
    "        Automation.ANTE_POSTING,\n",
    "        Automation.BET_COLLECTION,\n",
    "        Automation.BLIND_OR_STRADDLE_POSTING,\n",
    "        Automation.HOLE_CARDS_SHOWING_OR_MUCKING,\n",
    "        Automation.BOARD_DEALING,\n",
    "        Automation.CARD_BURNING,\n",
    "        Automation.HOLE_DEALING,\n",
    "        Automation.HAND_KILLING,\n",
    "        Automation.CARD_BURNING,\n",
    "        Automation.CHIPS_PUSHING,\n",
    "        Automation.CHIPS_PULLING,\n",
    "    ),           # 1. automations\n",
    "    False,       # 2. ante_trimming_status\n",
    "    {-1: 600},   # 3. raw_antes\n",
    "    (200, 400),  # 4. raw_blinds_or_straddles\n",
    "    400,         # 5. bring_in\n",
    "    (15000,12000),  # 6. raw_starting_stacks\n",
    "    2,           # 7. player_count\n",
    "    mode=Mode.CASH_GAME,  # 8. mode (keyword-only)\n",
    ")"
   ]
  },
  {
   "cell_type": "code",
   "execution_count": 129,
   "id": "0e7eb10c",
   "metadata": {},
   "outputs": [
    {
     "name": "stdout",
     "output_type": "stream",
     "text": [
      "Player 0 hole cards: [9d, 6h]\n",
      "Player 1 hole cards: [Jc, Qd]\n"
     ]
    }
   ],
   "source": [
    "for i in state.player_indices:\n",
    "    print(f\"Player {i} hole cards:\", list(state.hole_cards[i]))"
   ]
  },
  {
   "cell_type": "code",
   "execution_count": 114,
   "id": "7a802a5d",
   "metadata": {},
   "outputs": [
    {
     "data": {
      "text/plain": [
       "1"
      ]
     },
     "execution_count": 114,
     "metadata": {},
     "output_type": "execute_result"
    }
   ],
   "source": [
    "state.actor_index"
   ]
  },
  {
   "cell_type": "code",
   "execution_count": 117,
   "id": "1dc1d29f",
   "metadata": {},
   "outputs": [
    {
     "data": {
      "text/plain": [
       "[14000, 11800]"
      ]
     },
     "execution_count": 117,
     "metadata": {},
     "output_type": "execute_result"
    }
   ],
   "source": [
    "state.stacks"
   ]
  },
  {
   "cell_type": "code",
   "execution_count": 131,
   "id": "ad26d1e1",
   "metadata": {},
   "outputs": [
    {
     "data": {
      "text/plain": [
       "[]"
      ]
     },
     "execution_count": 131,
     "metadata": {},
     "output_type": "execute_result"
    }
   ],
   "source": [
    "state.board_cards"
   ]
  },
  {
   "cell_type": "code",
   "execution_count": 120,
   "id": "aca88f36",
   "metadata": {},
   "outputs": [
    {
     "ename": "ValueError",
     "evalue": "There is no player to act.",
     "output_type": "error",
     "traceback": [
      "\u001b[1;31m---------------------------------------------------------------------------\u001b[0m",
      "\u001b[1;31mValueError\u001b[0m                                Traceback (most recent call last)",
      "Cell \u001b[1;32mIn[120], line 2\u001b[0m\n\u001b[0;32m      1\u001b[0m \u001b[38;5;28;01mwhile\u001b[39;00m \u001b[38;5;28;01mTrue\u001b[39;00m:\n\u001b[1;32m----> 2\u001b[0m     state\u001b[38;5;241m.\u001b[39mcheck_or_call()\n",
      "File \u001b[1;32mc:\\Users\\Matthew\\anaconda3\\Lib\\site-packages\\pokerkit\\state.py:4533\u001b[0m, in \u001b[0;36mcheck_or_call\u001b[1;34m(self, commentary)\u001b[0m\n\u001b[0;32m   4516\u001b[0m \u001b[38;5;28;01mdef\u001b[39;00m \u001b[38;5;21mcheck_or_call\u001b[39m(\n\u001b[0;32m   4517\u001b[0m         \u001b[38;5;28mself\u001b[39m,\n\u001b[0;32m   4518\u001b[0m         \u001b[38;5;241m*\u001b[39m,\n\u001b[0;32m   4519\u001b[0m         commentary: \u001b[38;5;28mstr\u001b[39m \u001b[38;5;241m|\u001b[39m \u001b[38;5;28;01mNone\u001b[39;00m \u001b[38;5;241m=\u001b[39m \u001b[38;5;28;01mNone\u001b[39;00m,\n\u001b[0;32m   4520\u001b[0m ) \u001b[38;5;241m-\u001b[39m\u001b[38;5;241m>\u001b[39m CheckingOrCalling:\n\u001b[0;32m   4521\u001b[0m \u001b[38;5;250m    \u001b[39m\u001b[38;5;124;03m\"\"\"Check or call.\u001b[39;00m\n\u001b[0;32m   4522\u001b[0m \n\u001b[0;32m   4523\u001b[0m \u001b[38;5;124;03m    This entails matching or trying to match the largest outstanding\u001b[39;00m\n\u001b[0;32m   4524\u001b[0m \u001b[38;5;124;03m    bet by others. If nobody has yet bet in the current betting\u001b[39;00m\n\u001b[0;32m   4525\u001b[0m \u001b[38;5;124;03m    round, the player is said to check.\u001b[39;00m\n\u001b[0;32m   4526\u001b[0m \n\u001b[0;32m   4527\u001b[0m \u001b[38;5;124;03m    The actor can be accessed through\u001b[39;00m\n\u001b[0;32m   4528\u001b[0m \u001b[38;5;124;03m    :attr:`pokerkit.state.State.actor_index`.\u001b[39;00m\n\u001b[0;32m   4529\u001b[0m \n\u001b[0;32m   4530\u001b[0m \u001b[38;5;124;03m    :param commentary: The optional commentary.\u001b[39;00m\n\u001b[0;32m   4531\u001b[0m \u001b[38;5;124;03m    :return: The checking or calling.\u001b[39;00m\n\u001b[0;32m   4532\u001b[0m \u001b[38;5;124;03m    :raises ValueError: If the checking or calling cannot be done.\u001b[39;00m\n\u001b[1;32m-> 4533\u001b[0m \u001b[38;5;124;03m    \"\"\"\u001b[39;00m\n\u001b[0;32m   4534\u001b[0m     \u001b[38;5;28mself\u001b[39m\u001b[38;5;241m.\u001b[39mverify_checking_or_calling()\n\u001b[0;32m   4536\u001b[0m     amount \u001b[38;5;241m=\u001b[39m \u001b[38;5;28mself\u001b[39m\u001b[38;5;241m.\u001b[39mchecking_or_calling_amount\n",
      "File \u001b[1;32mc:\\Users\\Matthew\\anaconda3\\Lib\\site-packages\\pokerkit\\state.py:4461\u001b[0m, in \u001b[0;36mverify_checking_or_calling\u001b[1;34m(self)\u001b[0m\n\u001b[0;32m   4452\u001b[0m \u001b[38;5;28;01mdef\u001b[39;00m \u001b[38;5;21mverify_checking_or_calling\u001b[39m(\u001b[38;5;28mself\u001b[39m) \u001b[38;5;241m-\u001b[39m\u001b[38;5;241m>\u001b[39m \u001b[38;5;28;01mNone\u001b[39;00m:\n\u001b[0;32m   4453\u001b[0m \u001b[38;5;250m    \u001b[39m\u001b[38;5;124;03m\"\"\"Verify the checking or calling.\u001b[39;00m\n\u001b[0;32m   4454\u001b[0m \n\u001b[0;32m   4455\u001b[0m \u001b[38;5;124;03m    For more details on this operation, please consult the method\u001b[39;00m\n\u001b[1;32m   (...)\u001b[0m\n\u001b[0;32m   4459\u001b[0m \u001b[38;5;124;03m    :raises ValueError: If the checking or calling cannot be done.\u001b[39;00m\n\u001b[0;32m   4460\u001b[0m \u001b[38;5;124;03m    \"\"\"\u001b[39;00m\n\u001b[1;32m-> 4461\u001b[0m     \u001b[38;5;28;01mif\u001b[39;00m \u001b[38;5;129;01mnot\u001b[39;00m \u001b[38;5;28mself\u001b[39m\u001b[38;5;241m.\u001b[39mactor_indices:\n\u001b[0;32m   4462\u001b[0m         \u001b[38;5;28;01mraise\u001b[39;00m \u001b[38;5;167;01mValueError\u001b[39;00m(\u001b[38;5;124m'\u001b[39m\u001b[38;5;124mThere is no player to act.\u001b[39m\u001b[38;5;124m'\u001b[39m)\n\u001b[0;32m   4463\u001b[0m     \u001b[38;5;28;01melif\u001b[39;00m \u001b[38;5;28mself\u001b[39m\u001b[38;5;241m.\u001b[39mbring_in_status:\n",
      "\u001b[1;31mValueError\u001b[0m: There is no player to act."
     ]
    }
   ],
   "source": [
    "\n",
    "while True:\n",
    "    state.check_or_call()"
   ]
  },
  {
   "cell_type": "code",
   "execution_count": 122,
   "id": "37146861",
   "metadata": {},
   "outputs": [
    {
     "data": {
      "text/plain": [
       "[15400, 11600]"
      ]
     },
     "execution_count": 122,
     "metadata": {},
     "output_type": "execute_result"
    }
   ],
   "source": [
    "state.stacks"
   ]
  },
  {
   "cell_type": "code",
   "execution_count": 121,
   "id": "ce5d33fb",
   "metadata": {},
   "outputs": [
    {
     "data": {
      "text/plain": [
       "(Street(card_burning_status=False, hole_dealing_statuses=(False, False), board_dealing_count=0, draw_status=False, opening=<Opening.POSITION: 'Position'>, min_completion_betting_or_raising_amount=400, max_completion_betting_or_raising_count=None),\n",
       " Street(card_burning_status=True, hole_dealing_statuses=(), board_dealing_count=3, draw_status=False, opening=<Opening.POSITION: 'Position'>, min_completion_betting_or_raising_amount=400, max_completion_betting_or_raising_count=None),\n",
       " Street(card_burning_status=True, hole_dealing_statuses=(), board_dealing_count=1, draw_status=False, opening=<Opening.POSITION: 'Position'>, min_completion_betting_or_raising_amount=400, max_completion_betting_or_raising_count=None),\n",
       " Street(card_burning_status=True, hole_dealing_statuses=(), board_dealing_count=1, draw_status=False, opening=<Opening.POSITION: 'Position'>, min_completion_betting_or_raising_amount=400, max_completion_betting_or_raising_count=None))"
      ]
     },
     "execution_count": 121,
     "metadata": {},
     "output_type": "execute_result"
    }
   ],
   "source": [
    "state.streets"
   ]
  },
  {
   "cell_type": "code",
   "execution_count": 44,
   "id": "6f4fb5c6",
   "metadata": {},
   "outputs": [
    {
     "data": {
      "text/plain": [
       "CheckingOrCalling(commentary=None, player_index=3, amount=800)"
      ]
     },
     "execution_count": 44,
     "metadata": {},
     "output_type": "execute_result"
    }
   ],
   "source": [
    "state.check_or_call()"
   ]
  },
  {
   "cell_type": "code",
   "execution_count": 46,
   "id": "0f0f7c9c",
   "metadata": {},
   "outputs": [
    {
     "data": {
      "text/plain": [
       "deque([4, 5, 0, 1, 2])"
      ]
     },
     "execution_count": 46,
     "metadata": {},
     "output_type": "execute_result"
    }
   ],
   "source": [
    "state.actor_indices"
   ]
  },
  {
   "cell_type": "code",
   "execution_count": 47,
   "id": "0b00e3c1",
   "metadata": {},
   "outputs": [
    {
     "data": {
      "text/plain": [
       "CheckingOrCalling(commentary=None, player_index=4, amount=800)"
      ]
     },
     "execution_count": 47,
     "metadata": {},
     "output_type": "execute_result"
    }
   ],
   "source": [
    "state.check_or_call()"
   ]
  },
  {
   "cell_type": "code",
   "execution_count": 48,
   "id": "9bf85c62",
   "metadata": {},
   "outputs": [
    {
     "data": {
      "text/plain": [
       "deque([5, 0, 1, 2])"
      ]
     },
     "execution_count": 48,
     "metadata": {},
     "output_type": "execute_result"
    }
   ],
   "source": [
    "state.actor_indices"
   ]
  },
  {
   "cell_type": "code",
   "execution_count": 52,
   "id": "201ba928",
   "metadata": {},
   "outputs": [
    {
     "data": {
      "text/plain": [
       "'player_action'"
      ]
     },
     "execution_count": 52,
     "metadata": {},
     "output_type": "execute_result"
    }
   ],
   "source": [
    "pending_operation(state)"
   ]
  },
  {
   "cell_type": "code",
   "execution_count": 123,
   "id": "cf36100f",
   "metadata": {},
   "outputs": [
    {
     "name": "stdout",
     "output_type": "stream",
     "text": [
      "AntePosting(commentary=None, player_index=0, amount=600)\n",
      "BetCollection(commentary=None, bets=(600, 0))\n",
      "BlindOrStraddlePosting(commentary=None, player_index=0, amount=400)\n",
      "BlindOrStraddlePosting(commentary=None, player_index=1, amount=200)\n",
      "HoleDealing(commentary=None, player_index=0, cards=(Ac,), statuses=(False,))\n",
      "HoleDealing(commentary=None, player_index=1, cards=(6c,), statuses=(False,))\n",
      "HoleDealing(commentary=None, player_index=0, cards=(4d,), statuses=(False,))\n",
      "HoleDealing(commentary=None, player_index=1, cards=(4c,), statuses=(False,))\n",
      "CheckingOrCalling(commentary=None, player_index=1, amount=200)\n",
      "CheckingOrCalling(commentary=None, player_index=0, amount=0)\n",
      "BetCollection(commentary=None, bets=(400, 400))\n",
      "CardBurning(commentary=None, card=Td)\n",
      "BoardDealing(commentary=None, cards=(Jd, Qc, As))\n",
      "CheckingOrCalling(commentary=None, player_index=0, amount=0)\n",
      "CheckingOrCalling(commentary=None, player_index=1, amount=0)\n",
      "CardBurning(commentary=None, card=9c)\n",
      "BoardDealing(commentary=None, cards=(Qh,))\n",
      "CheckingOrCalling(commentary=None, player_index=0, amount=0)\n",
      "CheckingOrCalling(commentary=None, player_index=1, amount=0)\n",
      "CardBurning(commentary=None, card=4s)\n",
      "BoardDealing(commentary=None, cards=(Ts,))\n",
      "CheckingOrCalling(commentary=None, player_index=0, amount=0)\n",
      "CheckingOrCalling(commentary=None, player_index=1, amount=0)\n",
      "HoleCardsShowingOrMucking(commentary=None, player_index=0, hole_cards=(Ac, 4d))\n",
      "HoleCardsShowingOrMucking(commentary=None, player_index=1, hole_cards=())\n",
      "ChipsPushing(commentary=None, amounts=(1400, 0), pot_index=0, board_index=None, hand_type_index=None)\n",
      "ChipsPulling(commentary=None, player_index=0, amount=1400)\n"
     ]
    }
   ],
   "source": [
    "for op in state.operations:\n",
    "    print(op)"
   ]
  },
  {
   "cell_type": "code",
   "execution_count": 53,
   "id": "0b88817f",
   "metadata": {},
   "outputs": [
    {
     "data": {
      "text/plain": [
       "CompletionBettingOrRaisingTo(commentary=None, player_index=5, amount=2800)"
      ]
     },
     "execution_count": 53,
     "metadata": {},
     "output_type": "execute_result"
    }
   ],
   "source": [
    "state.complete_bet_or_raise_to(    2800,)"
   ]
  },
  {
   "cell_type": "code",
   "execution_count": null,
   "id": "cd499392",
   "metadata": {},
   "outputs": [
    {
     "name": "stdout",
     "output_type": "stream",
     "text": [
      "Player 0 hole cards: [9h, 9c]\n",
      "Player 1 hole cards: [7d, Qh]\n",
      "Player 2 hole cards: [Ad, Tc]\n",
      "Player 3 hole cards: [8d, 2c]\n",
      "Player 4 hole cards: [4s, Td]\n",
      "Player 5 hole cards: [5s, 2d]\n"
     ]
    }
   ],
   "source": [
    "for i in state.player_indices:\n",
    "    print(f\"Player {i} hole cards:\", list(state.hole_cards[i]))\n",
    "    "
   ]
  },
  {
   "cell_type": "code",
   "execution_count": 59,
   "id": "89891d1e",
   "metadata": {},
   "outputs": [
    {
     "data": {
      "text/plain": [
       "Folding(commentary=None, player_index=0)"
      ]
     },
     "execution_count": 59,
     "metadata": {},
     "output_type": "execute_result"
    }
   ],
   "source": [
    "state.fold()"
   ]
  },
  {
   "cell_type": "code",
   "execution_count": 60,
   "id": "3276853d",
   "metadata": {},
   "outputs": [
    {
     "data": {
      "text/plain": [
       "range(0, 6)"
      ]
     },
     "execution_count": 60,
     "metadata": {},
     "output_type": "execute_result"
    }
   ],
   "source": [
    "state.player_indices"
   ]
  },
  {
   "cell_type": "code",
   "execution_count": null,
   "id": "2d8d23ce",
   "metadata": {},
   "outputs": [
    {
     "data": {
      "text/plain": [
       "Folding(commentary=None, player_index=1)"
      ]
     },
     "execution_count": 61,
     "metadata": {},
     "output_type": "execute_result"
    }
   ],
   "source": [
    "state.fold()\n"
   ]
  },
  {
   "cell_type": "code",
   "execution_count": 62,
   "id": "4e801fcf",
   "metadata": {},
   "outputs": [
    {
     "data": {
      "text/plain": [
       "Folding(commentary=None, player_index=2)"
      ]
     },
     "execution_count": 62,
     "metadata": {},
     "output_type": "execute_result"
    }
   ],
   "source": [
    "state.fold()"
   ]
  },
  {
   "cell_type": "code",
   "execution_count": 63,
   "id": "e8c8dc31",
   "metadata": {},
   "outputs": [
    {
     "data": {
      "text/plain": [
       "Folding(commentary=None, player_index=3)"
      ]
     },
     "execution_count": 63,
     "metadata": {},
     "output_type": "execute_result"
    }
   ],
   "source": [
    "state.fold()"
   ]
  },
  {
   "cell_type": "code",
   "execution_count": 64,
   "id": "56f7b671",
   "metadata": {},
   "outputs": [
    {
     "data": {
      "text/plain": [
       "CheckingOrCalling(commentary=None, player_index=4, amount=2000)"
      ]
     },
     "execution_count": 64,
     "metadata": {},
     "output_type": "execute_result"
    }
   ],
   "source": [
    "state.check_or_call() "
   ]
  },
  {
   "cell_type": "code",
   "execution_count": 65,
   "id": "fff2ad8c",
   "metadata": {},
   "outputs": [
    {
     "data": {
      "text/plain": [
       "deque([])"
      ]
     },
     "execution_count": 65,
     "metadata": {},
     "output_type": "execute_result"
    }
   ],
   "source": [
    "state.actor_indices"
   ]
  },
  {
   "cell_type": "code",
   "execution_count": 67,
   "id": "1136efec",
   "metadata": {},
   "outputs": [
    {
     "name": "stdout",
     "output_type": "stream",
     "text": [
      "AntePosting(commentary=None, player_index=5, amount=600)\n",
      "BetCollection(commentary=None, bets=(0, 0, 0, 0, 0, 600))\n",
      "BlindOrStraddlePosting(commentary=None, player_index=0, amount=200)\n",
      "BlindOrStraddlePosting(commentary=None, player_index=1, amount=400)\n",
      "BlindOrStraddlePosting(commentary=None, player_index=2, amount=800)\n",
      "HoleDealing(commentary=None, player_index=0, cards=(Kd,), statuses=(False,))\n",
      "HoleDealing(commentary=None, player_index=1, cards=(As,), statuses=(False,))\n",
      "HoleDealing(commentary=None, player_index=2, cards=(9h,), statuses=(False,))\n",
      "HoleDealing(commentary=None, player_index=3, cards=(6h,), statuses=(False,))\n",
      "HoleDealing(commentary=None, player_index=4, cards=(8c,), statuses=(False,))\n",
      "HoleDealing(commentary=None, player_index=5, cards=(3h,), statuses=(False,))\n",
      "HoleDealing(commentary=None, player_index=0, cards=(5h,), statuses=(False,))\n",
      "HoleDealing(commentary=None, player_index=1, cards=(9d,), statuses=(False,))\n",
      "HoleDealing(commentary=None, player_index=2, cards=(Ah,), statuses=(False,))\n",
      "HoleDealing(commentary=None, player_index=3, cards=(8d,), statuses=(False,))\n",
      "HoleDealing(commentary=None, player_index=4, cards=(Jh,), statuses=(False,))\n",
      "HoleDealing(commentary=None, player_index=5, cards=(Qs,), statuses=(False,))\n",
      "CheckingOrCalling(commentary=None, player_index=3, amount=800)\n",
      "CheckingOrCalling(commentary=None, player_index=4, amount=800)\n",
      "CompletionBettingOrRaisingTo(commentary=None, player_index=5, amount=2800)\n",
      "Folding(commentary=None, player_index=0)\n",
      "Folding(commentary=None, player_index=1)\n",
      "Folding(commentary=None, player_index=2)\n",
      "Folding(commentary=None, player_index=3)\n",
      "CheckingOrCalling(commentary=None, player_index=4, amount=2000)\n",
      "BetCollection(commentary=None, bets=(200, 400, 800, 800, 2800, 2800))\n"
     ]
    }
   ],
   "source": [
    "for op in state.operations:\n",
    "    print(op)"
   ]
  },
  {
   "cell_type": "code",
   "execution_count": 68,
   "id": "f808830f",
   "metadata": {},
   "outputs": [
    {
     "data": {
      "text/plain": [
       "'burn_card'"
      ]
     },
     "execution_count": 68,
     "metadata": {},
     "output_type": "execute_result"
    }
   ],
   "source": [
    "pending_operation(state)"
   ]
  },
  {
   "cell_type": "code",
   "execution_count": 69,
   "id": "abf2d0af",
   "metadata": {},
   "outputs": [],
   "source": [
    "state.actor_index"
   ]
  },
  {
   "cell_type": "code",
   "execution_count": 70,
   "id": "86423e99",
   "metadata": {},
   "outputs": [
    {
     "data": {
      "text/plain": [
       "CardBurning(commentary=None, card=2c)"
      ]
     },
     "execution_count": 70,
     "metadata": {},
     "output_type": "execute_result"
    }
   ],
   "source": [
    "state.burn_card()"
   ]
  },
  {
   "cell_type": "code",
   "execution_count": 71,
   "id": "f21758c6",
   "metadata": {},
   "outputs": [
    {
     "data": {
      "text/plain": [
       "BoardDealing(commentary=None, cards=(6d, 9s, 5s))"
      ]
     },
     "execution_count": 71,
     "metadata": {},
     "output_type": "execute_result"
    }
   ],
   "source": [
    "state.deal_board()"
   ]
  },
  {
   "cell_type": "code",
   "execution_count": 72,
   "id": "2069c48d",
   "metadata": {},
   "outputs": [
    {
     "data": {
      "text/plain": [
       "'player_action'"
      ]
     },
     "execution_count": 72,
     "metadata": {},
     "output_type": "execute_result"
    }
   ],
   "source": [
    "pending_operation(state)"
   ]
  },
  {
   "cell_type": "code",
   "execution_count": 124,
   "id": "fda1de3d",
   "metadata": {},
   "outputs": [
    {
     "name": "stdout",
     "output_type": "stream",
     "text": [
      "Player 0 best hand: Two pair (AcJdQcAsQh)\n",
      "Player 1 best hand: None\n"
     ]
    }
   ],
   "source": [
    "for i in state.player_indices:\n",
    "    hand = state.get_hand(i, 0, 0)\n",
    "    print(f\"Player {i} best hand:\", hand)"
   ]
  },
  {
   "cell_type": "code",
   "execution_count": 74,
   "id": "a3c1d6ec",
   "metadata": {},
   "outputs": [
    {
     "data": {
      "text/plain": [
       "[inf, 116000, 86100, inf, 47200, inf]"
      ]
     },
     "execution_count": 74,
     "metadata": {},
     "output_type": "execute_result"
    }
   ],
   "source": [
    "state.stacks"
   ]
  },
  {
   "cell_type": "code",
   "execution_count": 75,
   "id": "54b60be5",
   "metadata": {},
   "outputs": [
    {
     "data": {
      "text/plain": [
       "4"
      ]
     },
     "execution_count": 75,
     "metadata": {},
     "output_type": "execute_result"
    }
   ],
   "source": [
    "state.actor_index"
   ]
  },
  {
   "cell_type": "code",
   "execution_count": null,
   "id": "01beb7c4",
   "metadata": {},
   "outputs": [
    {
     "data": {
      "text/plain": [
       "CheckingOrCalling(commentary=None, player_index=4, amount=0)"
      ]
     },
     "execution_count": 76,
     "metadata": {},
     "output_type": "execute_result"
    }
   ],
   "source": [
    "pending_operation(state)"
   ]
  },
  {
   "cell_type": "code",
   "execution_count": null,
   "id": "2741598c",
   "metadata": {},
   "outputs": [
    {
     "data": {
      "text/plain": [
       "CheckingOrCalling(commentary=None, player_index=5, amount=0)"
      ]
     },
     "execution_count": 77,
     "metadata": {},
     "output_type": "execute_result"
    }
   ],
   "source": [
    "pending_operation(state)"
   ]
  },
  {
   "cell_type": "code",
   "execution_count": 79,
   "id": "2fc7c41a",
   "metadata": {},
   "outputs": [
    {
     "data": {
      "text/plain": [
       "'burn_card'"
      ]
     },
     "execution_count": 79,
     "metadata": {},
     "output_type": "execute_result"
    }
   ],
   "source": [
    "pending_operation(state)"
   ]
  },
  {
   "cell_type": "code",
   "execution_count": 80,
   "id": "5ab1363e",
   "metadata": {},
   "outputs": [
    {
     "data": {
      "text/plain": [
       "CardBurning(commentary=None, card=3s)"
      ]
     },
     "execution_count": 80,
     "metadata": {},
     "output_type": "execute_result"
    }
   ],
   "source": [
    "state.burn_card()"
   ]
  },
  {
   "cell_type": "code",
   "execution_count": 81,
   "id": "5beee335",
   "metadata": {},
   "outputs": [
    {
     "data": {
      "text/plain": [
       "'deal_board'"
      ]
     },
     "execution_count": 81,
     "metadata": {},
     "output_type": "execute_result"
    }
   ],
   "source": [
    "pending_operation(state)"
   ]
  },
  {
   "cell_type": "code",
   "execution_count": 84,
   "id": "72051b1f",
   "metadata": {},
   "outputs": [
    {
     "ename": "ValueError",
     "evalue": "There is no player to act.",
     "output_type": "error",
     "traceback": [
      "\u001b[1;31m---------------------------------------------------------------------------\u001b[0m",
      "\u001b[1;31mValueError\u001b[0m                                Traceback (most recent call last)",
      "Cell \u001b[1;32mIn[84], line 1\u001b[0m\n\u001b[1;32m----> 1\u001b[0m state\u001b[38;5;241m.\u001b[39mcheck_or_call()\n",
      "File \u001b[1;32mc:\\Users\\Matthew\\anaconda3\\Lib\\site-packages\\pokerkit\\state.py:4533\u001b[0m, in \u001b[0;36mcheck_or_call\u001b[1;34m(self, commentary)\u001b[0m\n\u001b[0;32m   4516\u001b[0m \u001b[38;5;28;01mdef\u001b[39;00m \u001b[38;5;21mcheck_or_call\u001b[39m(\n\u001b[0;32m   4517\u001b[0m         \u001b[38;5;28mself\u001b[39m,\n\u001b[0;32m   4518\u001b[0m         \u001b[38;5;241m*\u001b[39m,\n\u001b[0;32m   4519\u001b[0m         commentary: \u001b[38;5;28mstr\u001b[39m \u001b[38;5;241m|\u001b[39m \u001b[38;5;28;01mNone\u001b[39;00m \u001b[38;5;241m=\u001b[39m \u001b[38;5;28;01mNone\u001b[39;00m,\n\u001b[0;32m   4520\u001b[0m ) \u001b[38;5;241m-\u001b[39m\u001b[38;5;241m>\u001b[39m CheckingOrCalling:\n\u001b[0;32m   4521\u001b[0m \u001b[38;5;250m    \u001b[39m\u001b[38;5;124;03m\"\"\"Check or call.\u001b[39;00m\n\u001b[0;32m   4522\u001b[0m \n\u001b[0;32m   4523\u001b[0m \u001b[38;5;124;03m    This entails matching or trying to match the largest outstanding\u001b[39;00m\n\u001b[0;32m   4524\u001b[0m \u001b[38;5;124;03m    bet by others. If nobody has yet bet in the current betting\u001b[39;00m\n\u001b[0;32m   4525\u001b[0m \u001b[38;5;124;03m    round, the player is said to check.\u001b[39;00m\n\u001b[0;32m   4526\u001b[0m \n\u001b[0;32m   4527\u001b[0m \u001b[38;5;124;03m    The actor can be accessed through\u001b[39;00m\n\u001b[0;32m   4528\u001b[0m \u001b[38;5;124;03m    :attr:`pokerkit.state.State.actor_index`.\u001b[39;00m\n\u001b[0;32m   4529\u001b[0m \n\u001b[0;32m   4530\u001b[0m \u001b[38;5;124;03m    :param commentary: The optional commentary.\u001b[39;00m\n\u001b[0;32m   4531\u001b[0m \u001b[38;5;124;03m    :return: The checking or calling.\u001b[39;00m\n\u001b[0;32m   4532\u001b[0m \u001b[38;5;124;03m    :raises ValueError: If the checking or calling cannot be done.\u001b[39;00m\n\u001b[1;32m-> 4533\u001b[0m \u001b[38;5;124;03m    \"\"\"\u001b[39;00m\n\u001b[0;32m   4534\u001b[0m     \u001b[38;5;28mself\u001b[39m\u001b[38;5;241m.\u001b[39mverify_checking_or_calling()\n\u001b[0;32m   4536\u001b[0m     amount \u001b[38;5;241m=\u001b[39m \u001b[38;5;28mself\u001b[39m\u001b[38;5;241m.\u001b[39mchecking_or_calling_amount\n",
      "File \u001b[1;32mc:\\Users\\Matthew\\anaconda3\\Lib\\site-packages\\pokerkit\\state.py:4461\u001b[0m, in \u001b[0;36mverify_checking_or_calling\u001b[1;34m(self)\u001b[0m\n\u001b[0;32m   4452\u001b[0m \u001b[38;5;28;01mdef\u001b[39;00m \u001b[38;5;21mverify_checking_or_calling\u001b[39m(\u001b[38;5;28mself\u001b[39m) \u001b[38;5;241m-\u001b[39m\u001b[38;5;241m>\u001b[39m \u001b[38;5;28;01mNone\u001b[39;00m:\n\u001b[0;32m   4453\u001b[0m \u001b[38;5;250m    \u001b[39m\u001b[38;5;124;03m\"\"\"Verify the checking or calling.\u001b[39;00m\n\u001b[0;32m   4454\u001b[0m \n\u001b[0;32m   4455\u001b[0m \u001b[38;5;124;03m    For more details on this operation, please consult the method\u001b[39;00m\n\u001b[1;32m   (...)\u001b[0m\n\u001b[0;32m   4459\u001b[0m \u001b[38;5;124;03m    :raises ValueError: If the checking or calling cannot be done.\u001b[39;00m\n\u001b[0;32m   4460\u001b[0m \u001b[38;5;124;03m    \"\"\"\u001b[39;00m\n\u001b[1;32m-> 4461\u001b[0m     \u001b[38;5;28;01mif\u001b[39;00m \u001b[38;5;129;01mnot\u001b[39;00m \u001b[38;5;28mself\u001b[39m\u001b[38;5;241m.\u001b[39mactor_indices:\n\u001b[0;32m   4462\u001b[0m         \u001b[38;5;28;01mraise\u001b[39;00m \u001b[38;5;167;01mValueError\u001b[39;00m(\u001b[38;5;124m'\u001b[39m\u001b[38;5;124mThere is no player to act.\u001b[39m\u001b[38;5;124m'\u001b[39m)\n\u001b[0;32m   4463\u001b[0m     \u001b[38;5;28;01melif\u001b[39;00m \u001b[38;5;28mself\u001b[39m\u001b[38;5;241m.\u001b[39mbring_in_status:\n",
      "\u001b[1;31mValueError\u001b[0m: There is no player to act."
     ]
    }
   ],
   "source": [
    "state.check_or_call()"
   ]
  },
  {
   "cell_type": "code",
   "execution_count": null,
   "id": "c06f1f8d",
   "metadata": {},
   "outputs": [],
   "source": []
  }
 ],
 "metadata": {
  "kernelspec": {
   "display_name": "base",
   "language": "python",
   "name": "python3"
  },
  "language_info": {
   "codemirror_mode": {
    "name": "ipython",
    "version": 3
   },
   "file_extension": ".py",
   "mimetype": "text/x-python",
   "name": "python",
   "nbconvert_exporter": "python",
   "pygments_lexer": "ipython3",
   "version": "3.11.7"
  }
 },
 "nbformat": 4,
 "nbformat_minor": 5
}
